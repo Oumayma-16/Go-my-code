{
 "cells": [
  {
   "cell_type": "markdown",
   "metadata": {},
   "source": [
    "# Q1 "
   ]
  },
  {
   "cell_type": "code",
   "execution_count": 84,
   "metadata": {},
   "outputs": [
    {
     "name": "stdout",
     "output_type": "stream",
     "text": [
      "Enter first number: 90\n",
      "Enter second number: 60.3\n",
      "Enter third number: 52.4\n",
      "90.0\n"
     ]
    }
   ],
   "source": [
    "a =float(input(\"Enter first number: \"))\n",
    "b= float(input(\"Enter second number: \"))\n",
    "c= float(input(\"Enter third number: \")) \n",
    "def max(a,b,c):\n",
    "        if (a > b) and (a > c):\n",
    "            return (a)\n",
    "        elif (b > a) and (b> c):\n",
    "            return(b)\n",
    "        else:\n",
    "            return(c)\n",
    "print (max(a,b,c))"
   ]
  },
  {
   "cell_type": "markdown",
   "metadata": {},
   "source": [
    "# Q2"
   ]
  },
  {
   "cell_type": "code",
   "execution_count": 57,
   "metadata": {},
   "outputs": [
    {
     "name": "stdout",
     "output_type": "stream",
     "text": [
      "Enter first number: 7.8\n",
      "Enter second number: 6.3\n",
      "(14.1, 1.5)\n"
     ]
    }
   ],
   "source": [
    "a = float(input(\"Enter first number: \"))\n",
    "b = float(input(\"Enter second number: \"))\n",
    "def calculation (a,b):\n",
    "    return (a+b,a-b)\n",
    "print(calculation(a,b))"
   ]
  },
  {
   "cell_type": "markdown",
   "metadata": {},
   "source": [
    "# Q3"
   ]
  },
  {
   "cell_type": "code",
   "execution_count": 79,
   "metadata": {},
   "outputs": [
    {
     "name": "stdout",
     "output_type": "stream",
     "text": [
      "15\n",
      "6912\n",
      "La somme des positions d'index pair est:  9\n",
      "Le produit des positions d'index impair est:  36\n"
     ]
    }
   ],
   "source": [
    "L= [1,2,3,4,5]#input('Enter a list of integers :')\n",
    "def somme (L):\n",
    "    s =0\n",
    "    for i in range(0,len(L)) :\n",
    "            s= s+L[i]\n",
    "    return(s)\n",
    "print (somme(L)) \n",
    "\n",
    "Y=[8,9,8,4,3] #input('Enter a list of integers :')\n",
    "def produit (Y):\n",
    "    p = 1\n",
    "    for x in Y:\n",
    "        p = p * x  \n",
    "    return (p)\n",
    "print(produit(Y))\n",
    "\n",
    "def EvenSomme(a,n):\n",
    "    even = 0\n",
    "    for i in range(n):\n",
    "        if i % 2 == 0:\n",
    "            even += a[i]\n",
    "    print (\"La somme des positions d'index pair est: \", even)\n",
    "n = len(L)\n",
    "EvenSomme(L,n)\n",
    "\n",
    "def oddproduit (b,m):\n",
    "    odd =1 \n",
    "    for i in range (m):\n",
    "        if i % 2 ==1 :\n",
    "            odd *= b[i]\n",
    "    print (\"Le produit des positions d'index impair est: \", odd)\n",
    "m= len(Y)    \n",
    "oddproduit(Y,m)\n"
   ]
  },
  {
   "cell_type": "markdown",
   "metadata": {},
   "source": [
    "# Q4"
   ]
  },
  {
   "cell_type": "code",
   "execution_count": 14,
   "metadata": {},
   "outputs": [
    {
     "name": "stdout",
     "output_type": "stream",
     "text": [
      "Enter a hyphen separated sequence of words: green-red-yellow-black-white\n",
      "black-green-red-white-yellow\n"
     ]
    }
   ],
   "source": [
    "n=input(\"Enter a hyphen separated sequence of words: \") \n",
    "x=n.split('-') \n",
    "x.sort() \n",
    "print('-'.join(x))"
   ]
  },
  {
   "cell_type": "markdown",
   "metadata": {},
   "source": [
    "# Q5 "
   ]
  },
  {
   "cell_type": "code",
   "execution_count": 51,
   "metadata": {},
   "outputs": [
    {
     "name": "stdout",
     "output_type": "stream",
     "text": [
      "write D: 100,150,180\n",
      "[18, 22, 24]\n"
     ]
    }
   ],
   "source": [
    "import math\n",
    "numbers = input(\"write D: \")\n",
    "numbers = numbers.split(',')\n",
    "result_list = []\n",
    "for D in numbers:\n",
    "    Q = round(math.sqrt(2 * 50 * int(D) / 30))\n",
    "    result_list.append(Q)\n",
    "print(result_list)      "
   ]
  }
 ],
 "metadata": {
  "kernelspec": {
   "display_name": "Python 3",
   "language": "python",
   "name": "python3"
  },
  "language_info": {
   "codemirror_mode": {
    "name": "ipython",
    "version": 3
   },
   "file_extension": ".py",
   "mimetype": "text/x-python",
   "name": "python",
   "nbconvert_exporter": "python",
   "pygments_lexer": "ipython3",
   "version": "3.8.5"
  }
 },
 "nbformat": 4,
 "nbformat_minor": 4
}
